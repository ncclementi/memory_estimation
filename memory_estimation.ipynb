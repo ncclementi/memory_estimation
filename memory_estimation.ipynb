{
 "cells": [
  {
   "cell_type": "markdown",
   "metadata": {},
   "source": [
    "## Estimation of memory to run PyGBe "
   ]
  },
  {
   "cell_type": "markdown",
   "metadata": {},
   "source": [
    "We want to know an estimation of the memory needs (GPU) to run bigger problem that what we've been running with PyGBe.\n",
    "\n",
    "In this notebook we are showing some results on memory profiling obtained using **nvprof** (Nvidia profiler) for different problem sizes. \n",
    "\n",
    "We used a TESLA C2075 Nvidia GPU to make the runs.   \n"
   ]
  },
  {
   "cell_type": "markdown",
   "metadata": {},
   "source": [
    "##### Estimation of number of elements for a 1M atoms protein."
   ]
  },
  {
   "cell_type": "markdown",
   "metadata": {},
   "source": [
    "Before estimating the amount of memory needed to run big problems ($>1M$), for completion, we will get an idea of how many elements (triangles) will have a mesh generated for this number of atoms. We will use the cases we've already run on and their density $d=2$ meshes generated using MSMS to do a linear regression and therefore estimate the number of elements needed. For simplicity and to have a first approach we used the meshes that doesn't involve cavities and stern layer.    "
   ]
  },
  {
   "cell_type": "markdown",
   "metadata": {},
   "source": [
    "| Protein | Num. of atoms | Num. of elem. (d=2) |\n",
    "|:-------:|:-------------:|:-------------------:|\n",
    "|  1PGB   |      862      |         11696       |\n",
    "|  1HEL   |      1323     |         21944       |\n",
    "|  3BTK   |      4074     |         39432       |\n",
    "|  1IGT   |      20147    |         225512      |\n"
   ]
  },
  {
   "cell_type": "markdown",
   "metadata": {},
   "source": [
    "*Note*: 1HEL is the PDB code for the lysozyme and 1IGT for the antibody."
   ]
  },
  {
   "cell_type": "code",
   "execution_count": 1,
   "metadata": {
    "collapsed": false
   },
   "outputs": [],
   "source": [
    "import numpy\n",
    "from matplotlib import pyplot\n",
    "%matplotlib inline"
   ]
  },
  {
   "cell_type": "code",
   "execution_count": 2,
   "metadata": {
    "collapsed": true
   },
   "outputs": [],
   "source": [
    "atoms = numpy.array([862,1323,4074,20147])\n",
    "elements = numpy.array([11696,21944,39432,225512])"
   ]
  },
  {
   "cell_type": "code",
   "execution_count": 3,
   "metadata": {
    "collapsed": false
   },
   "outputs": [],
   "source": [
    "fit = numpy.polyfit(atoms, elements, 1)\n",
    "fit_fn = numpy.poly1d(fit)"
   ]
  },
  {
   "cell_type": "code",
   "execution_count": 4,
   "metadata": {
    "code_folding": [],
    "collapsed": false
   },
   "outputs": [
    {
     "data": {
      "image/png": "[encoded data removed]",
      "text/plain": [
       "<matplotlib.figure.Figure at 0x7f72778b3860>"
      ]
     },
     "metadata": {},
     "output_type": "display_data"
    }
   ],
   "source": [
    "# Regression of number of elements according to number of atoms\n",
    "pyplot.figure(figsize=(8,6))\n",
    "pyplot.grid(True)\n",
    "\n",
    "label = ['1PGB','1HEL','3BTK','1IGT']\n",
    "for i, txt in enumerate(label):\n",
    "    pyplot.annotate(txt, (atoms[i],elements[i]), rotation=0, fontsize=13)\n",
    "\n",
    "pyplot.xlabel('atoms', fontsize=18)\n",
    "pyplot.ylabel('elements', fontsize=18)\n",
    "pyplot.plot(atoms,elements, 'ob', atoms, fit_fn(atoms), '--b');\n",
    "\n"
   ]
  },
  {
   "cell_type": "code",
   "execution_count": 5,
   "metadata": {
    "code_folding": [],
    "collapsed": false
   },
   "outputs": [
    {
     "name": "stdout",
     "output_type": "stream",
     "text": [
      "for 1M atoms: 11060054.922977 elements\n",
      "for dengue virus: 11968613.972655 elements\n",
      "for 3M atoms: 33176876.969673 elements\n"
     ]
    }
   ],
   "source": [
    "#estimate of elements for 1 and 3 million atoms according to the regression\n",
    "elem_1Ma = fit_fn(1000000)\n",
    "elem_dengue = fit_fn(1082160)\n",
    "elem_3Ma = fit_fn(3000000)\n",
    "\n",
    "\n",
    "print ('for 1M atoms: {:f} elements'.format(elem_1Ma))\n",
    "print ('for dengue virus: {:f} elements'.format(elem_dengue))\n",
    "print ('for 3M atoms: {:f} elements'.format(elem_3Ma))\n"
   ]
  },
  {
   "cell_type": "markdown",
   "metadata": {},
   "source": [
    "According to the regression, the amount of elements on a mesh of density $d=2$ on MSMS for a 1 million atoms protein and for a 3 million atoms protein are approximately 11 and 33 millions respectively. Let's remember that this estimations do not include cavities or stern layer, what will increase the number of elements, but there is no way to estimate how much they will increase because the amount of cavities is strongly dependent on the protein. "
   ]
  },
  {
   "cell_type": "markdown",
   "metadata": {},
   "source": [
    "##### Estimation of memory "
   ]
  },
  {
   "cell_type": "markdown",
   "metadata": {},
   "source": [
    "We show the memory required to run `PyGBe` for all the cases of proteins we have. First we show for 1 iteration and then a progression for 1, 2, 4, 8, 16 and total iterations for each protein. \n",
    "\n",
    "*Note*: HtoD stands for Host to Device and DtoH for Device to Host."
   ]
  },
  {
   "cell_type": "markdown",
   "metadata": {},
   "source": [
    "*Parameters used*\n",
    "\n",
    "**K**: 1             (number of Gauss points per element). \n",
    "\n",
    "**Nk**: 9        (number of Gauss points per side for semi-analytical\n",
    "                 integration).\n",
    "\n",
    "**K_fine**: 19 (Number of Gauss points per element for near singular integrals).\n",
    "\n",
    "**threshold**: 0.5   (defines region near singularity where semi-analytical technique is used). \n",
    "                \n",
    "**BSZ**: 128         (CUDA block size).\n",
    "\n",
    "**tolerance**: 1e-5  (GMRES tolerance).\n",
    "\n",
    "**P**: 4             (order of expansion in treecode).\n",
    "\n",
    "**eps**: 1e-12       (epsilon machine).\n",
    "\n",
    "**NCRIT**: 500       (maximum number of boundary elements per twig box of tree structure).\n",
    "\n",
    "**theta**: 0.5       (multipole acceptance criterion of treecode).\n"
   ]
  },
  {
   "cell_type": "markdown",
   "metadata": {},
   "source": [
    "**Iteration number 1**"
   ]
  },
  {
   "cell_type": "markdown",
   "metadata": {},
   "source": [
    "| Protein | Mem HtoD (MB) | Mem DtoH (MB)|\n",
    "|:-------:|:-------------:|:------------:|\n",
    "|  1PGB   |      18.51    |     4.356    |\n",
    "|  1HEL   |      24.84    |     4.796    |\n",
    "|  3BTK   |      71.752   |     13.376   |\n",
    "|  1IGT   |      639.406  |     70.796   |\n"
   ]
  },
  {
   "cell_type": "code",
   "execution_count": 6,
   "metadata": {
    "collapsed": true
   },
   "outputs": [],
   "source": [
    "#Linear regressions for 1 iteretation Hto D and DtoH\n",
    "HtoD_1it = numpy.array([18.51, 24.84, 71.752, 639.406])\n",
    "DtoH_1it = numpy.array([4.356, 4.796, 13.376, 70.796])\n",
    "\n",
    "fit_HtoD_1it = numpy.polyfit(atoms, HtoD_1it, 1)\n",
    "fn_HtoD_1it = numpy.poly1d(fit_HtoD_1it)\n",
    "\n",
    "fit_DtoH_1it = numpy.polyfit(atoms, DtoH_1it, 1)\n",
    "fn_DtoH_1it = numpy.poly1d(fit_DtoH_1it)"
   ]
  },
  {
   "cell_type": "code",
   "execution_count": 7,
   "metadata": {
    "code_folding": [],
    "collapsed": false
   },
   "outputs": [
    {
     "data": {
      "image/png": "[encoded data removed]",
      "text/plain": [
       "<matplotlib.figure.Figure at 0x7f72778e6cf8>"
      ]
     },
     "metadata": {},
     "output_type": "display_data"
    }
   ],
   "source": [
    "# Memory requirements for 1 iteration according to number of atoms \n",
    "pyplot.figure(figsize=(8,6))\n",
    "pyplot.grid(True)\n",
    "\n",
    "label = ['1PGB','1HEL','3BTK','1IGT']\n",
    "for i, txt in enumerate(label):\n",
    "    pyplot.annotate(txt, (atoms[i],DtoH_1it[i]), rotation=60, fontsize=13)\n",
    "\n",
    "\n",
    "pyplot.xlim(0, 22000)\n",
    "pyplot.xticks(numpy.arange(0, 22000, 2500))\n",
    "pyplot.xlabel('atoms', fontsize=18)\n",
    "pyplot.ylabel('MB', fontsize=18)\n",
    "pyplot.plot(atoms,HtoD_1it, 'og')\n",
    "pyplot.plot(atoms, fn_HtoD_1it(atoms), '--g', label= 'HtoD')\n",
    "pyplot.plot(atoms,DtoH_1it, 'or')\n",
    "pyplot.plot(atoms, fn_DtoH_1it(atoms), '--r', label= 'DtoH');\n",
    "pyplot.legend(loc='center right');\n"
   ]
  },
  {
   "cell_type": "code",
   "execution_count": 8,
   "metadata": {
    "collapsed": false
   },
   "outputs": [
    {
     "data": {
      "image/png": "[encoded data removed]",
      "text/plain": [
       "<matplotlib.figure.Figure at 0x7f7275157048>"
      ]
     },
     "metadata": {},
     "output_type": "display_data"
    }
   ],
   "source": [
    "#In terms of elements, the HtoD mem.\n",
    "\n",
    "fit_HtoD_1it_e = numpy.polyfit(elements, HtoD_1it, 1)\n",
    "fn_HtoD_1it_e = numpy.poly1d(fit_HtoD_1it_e)\n",
    "fit_DtoH_1it_e = numpy.polyfit(elements, DtoH_1it, 1)\n",
    "fn_DtoH_1it_e = numpy.poly1d(fit_DtoH_1it_e)\n",
    "\n",
    "\n",
    "pyplot.figure(figsize=(8,6))\n",
    "pyplot.grid(True)\n",
    "\n",
    "label = ['1PGB','1HEL','3BTK','1IGT']\n",
    "for i, txt in enumerate(label):\n",
    "    pyplot.annotate(txt, (elements[i], DtoH_1it[i]), rotation=45, fontsize=13)\n",
    "\n",
    "pyplot.ylim(-100, 700)\n",
    "pyplot.xlabel('elements', fontsize=18)\n",
    "pyplot.ylabel('MB', fontsize=18)\n",
    "pyplot.plot(elements, HtoD_1it, 'og')\n",
    "pyplot.plot(elements, fn_HtoD_1it_e(elements), '--g', label= 'HtoD')\n",
    "pyplot.plot(elements, DtoH_1it, 'or')\n",
    "pyplot.plot(elements, fn_DtoH_1it_e(elements), '--r', label= 'DtoH')\n",
    "pyplot.legend(loc='center right');"
   ]
  },
  {
   "cell_type": "markdown",
   "metadata": {},
   "source": [
    "Let's use these linear regressions to have an estimation of how much memory do we need to run bigger problems. "
   ]
  },
  {
   "cell_type": "code",
   "execution_count": 9,
   "metadata": {
    "collapsed": false
   },
   "outputs": [
    {
     "name": "stdout",
     "output_type": "stream",
     "text": [
      "The memory (HtoD) needed to run a 1M atoms protein is approx. 32.852474 GB\n",
      "The memory (DtoH) needed to run a 1M atoms protein is approx. 3.490263 GB\n"
     ]
    }
   ],
   "source": [
    "#Memory estimation for 1M atoms\n",
    "mem_1M_HtoD = fn_HtoD_1it(1000000)\n",
    "mem_1M_DtoH = fn_DtoH_1it(1000000)\n",
    "print('The memory (HtoD) needed to run a 1M atoms protein is approx. {:f} GB'.format(mem_1M_HtoD/1000))\n",
    "print('The memory (DtoH) needed to run a 1M atoms protein is approx. {:f} GB'.format(mem_1M_DtoH/1000))"
   ]
  },
  {
   "cell_type": "code",
   "execution_count": 10,
   "metadata": {
    "collapsed": false
   },
   "outputs": [
    {
     "name": "stdout",
     "output_type": "stream",
     "text": [
      "The memory (HtoD) needed to run order of 11M elements is approx. 32.873725 GB\n",
      "The memory (DtoH) needed to run order of 11M elements is approx. 3.483511 GB\n"
     ]
    }
   ],
   "source": [
    "#Memory estimation for the corresponding elements (~11060055) HtoD\n",
    "mem_11Me_HtoD = fn_HtoD_1it_e(11060055)\n",
    "mem_11Me_DtoH = fn_DtoH_1it_e(11060055)\n",
    "\n",
    "print('The memory (HtoD) needed to run order of 11M elements is approx. {:f} GB'.format(mem_11Me_HtoD/1000))\n",
    "print('The memory (DtoH) needed to run order of 11M elements is approx. {:f} GB'.format(mem_11Me_DtoH/1000))\n"
   ]
  },
  {
   "cell_type": "markdown",
   "metadata": {},
   "source": [
    "The NVIDIA cards we have available now on our lab have these memory specifications:\n",
    "\n",
    "| CARD    |    Mem (GB)   |\n",
    "|:-------:|:-------------:|\n",
    "|  C2075  |      5.6      |\n",
    "|  K20    |      4.9      |\n",
    "|  K40    |      11.99    |\n",
    "\n",
    "\n",
    "\n"
   ]
  },
  {
   "cell_type": "markdown",
   "metadata": {},
   "source": [
    "Looking at these numbers let's compute the biggest amount of atoms that we can run in each card. "
   ]
  },
  {
   "cell_type": "code",
   "execution_count": 11,
   "metadata": {
    "code_folding": [],
    "collapsed": false
   },
   "outputs": [
    {
     "name": "stdout",
     "output_type": "stream",
     "text": [
      "Maxium amount of atoms allow on a:\n",
      "C2075 is approx 171176\n",
      "K20 is approx 149887\n",
      "K40 is approx 365514\n",
      "------------------------------------------\n",
      "Maxium amount of elements allow on a:\n",
      "C2075 is approx 1893400\n",
      "K20 is approx 1658131\n",
      "K40 is approx 4041069\n"
     ]
    }
   ],
   "source": [
    "#Maxium of atoms per card for HtoD memory.\n",
    "\n",
    "#We multiply for 1000 because m and b are in MB.\n",
    "card_mem = numpy.array([5.6, 4.9, 11.99]) * 1000  \n",
    "m , b = fit_HtoD_1it[0] , fit_HtoD_1it[1]\n",
    "m_e , b_e = fit_HtoD_1it_e[0] , fit_HtoD_1it_e[1]\n",
    "\n",
    "atoms_max = (card_mem - b)/m\n",
    "elements_max = (card_mem - b_e)/m_e\n",
    "\n",
    "print('Maxium amount of atoms allow on a:')\n",
    "print('C2075 is approx {:.0f}'.format(atoms_max[0]))\n",
    "print('K20 is approx {:.0f}'.format(atoms_max[1]))\n",
    "print('K40 is approx {:.0f}'.format(atoms_max[2]))\n",
    "print('------------------------------------------')\n",
    "print('Maxium amount of elements allow on a:')\n",
    "print('C2075 is approx {:.0f}'.format(elements_max[0]))\n",
    "print('K20 is approx {:.0f}'.format(elements_max[1]))\n",
    "print('K40 is approx {:.0f}'.format(elements_max[2]))"
   ]
  },
  {
   "cell_type": "markdown",
   "metadata": {},
   "source": [
    "We have to have in mind that these numbers were calculated for the simplest geometry that one cna obtain from the meshing tool. If we include cavities the amount of elements will be bigger for the same amount of atoms. Another consideration is that these number depends on the treecode parameters, for a $1M$ atoms protein having $NCRIT=500$ might not be the best choice. The order of expansion taylor expansion $P$, will also imply a variation on the memory requirements.\n",
    "\n",
    "Until now we've been using MSMS to generate the meshes for our proteins, this will be an inconvinient for bigger problems. Chen and Lu in their paper about TMSmesh [Chen&Lu2010](http://citeseerx.ist.psu.edu/viewdoc/download?doi=10.1.1.710.5779&rep=rep1&type=pdf) talk about the MSMS crushing for some problems bigger than 150000 atoms. Therefore, in the case we are available to run big problems, we will need to find a different mesh generator.   "
   ]
  },
  {
   "cell_type": "code",
   "execution_count": 12,
   "metadata": {
    "collapsed": false
   },
   "outputs": [
    {
     "data": {
      "text/html": [
       "<link href='http://fonts.googleapis.com/css?family=Fenix' rel='stylesheet' type='text/css'>\n",
       "<link href='http://fonts.googleapis.com/css?family=Alegreya+Sans:100,300,400,500,700,800,900,100italic,300italic,400italic,500italic,700italic,800italic,900italic' rel='stylesheet' type='text/css'>\n",
       "<link href='http://fonts.googleapis.com/css?family=Source+Code+Pro:300,400' rel='stylesheet' type='text/css'>\n",
       "<style>\n",
       "\n",
       "@font-face {\n",
       "    font-family: \"Computer Modern\";\n",
       "    src: url('http://mirrors.ctan.org/fonts/cm-unicode/fonts/otf/cmunss.otf');\n",
       "}\n",
       "\n",
       "\n",
       "#notebook_panel { /* main background */\n",
       "    background: rgb(245,245,245);\n",
       "}\n",
       "\n",
       "div.cell { /* set cell width */\n",
       "    width: 750px;\n",
       "}\n",
       "\n",
       "div #notebook { /* centre the content */\n",
       "    background: #fff; /* white background for content */\n",
       "    width: 1000px;\n",
       "    margin: auto;\n",
       "    padding-left: 0em;\n",
       "}\n",
       "\n",
       "#notebook li { /* More space between bullet points */\n",
       "margin-top:0.8em;\n",
       "}\n",
       "\n",
       "/* draw border around running cells */\n",
       "div.cell.border-box-sizing.code_cell.running { \n",
       "    border: 1px solid #111;\n",
       "}\n",
       "\n",
       "/* Put a solid color box around each cell and its output, visually linking them*/\n",
       "div.cell.code_cell {\n",
       "    background-color: rgb(256,256,256); \n",
       "    border-radius: 0px; \n",
       "    padding: 0.5em;\n",
       "    margin-left:1em;\n",
       "    margin-top: 1em;\n",
       "}\n",
       "\n",
       "\n",
       "div.text_cell_render{\n",
       "    font-family: 'Alegreya Sans' sans-serif;\n",
       "    line-height: 140%;\n",
       "    font-size: 125%;\n",
       "    font-weight: 400;\n",
       "    width:600px;\n",
       "    margin-left:auto;\n",
       "    margin-right:auto;\n",
       "}\n",
       "\n",
       "/* Formatting for header cells */\n",
       ".text_cell_render h1 {\n",
       "    font-family: 'Alegreya Sans', sans-serif;\n",
       "    font-style:regular;\n",
       "    font-weight: 200;    \n",
       "    font-size: 50pt;\n",
       "    line-height: 100%;\n",
       "    color:#CD2305;\n",
       "    margin-bottom: 0.5em;\n",
       "    margin-top: 0.5em;\n",
       "    display: block;\n",
       "}\t\n",
       ".text_cell_render h2 {\n",
       "    font-family: 'Fenix', serif;\n",
       "    font-size: 22pt;\n",
       "    line-height: 100%;\n",
       "    margin-bottom: 0.1em;\n",
       "    margin-top: 0.3em;\n",
       "    display: block;\n",
       "}\t\n",
       "\n",
       ".text_cell_render h3 {\n",
       "    font-family: 'Fenix', serif;\n",
       "    margin-top:12px;\n",
       "\tfont-size: 16pt;\n",
       "    margin-bottom: 3px;\n",
       "    font-style: regular;\n",
       "}\n",
       "\n",
       ".text_cell_render h4 {    /*Use this for captions*/\n",
       "    font-family: 'Fenix', serif;\n",
       "    font-size: 2pt;\n",
       "    text-align: center;\n",
       "    margin-top: 0em;\n",
       "    margin-bottom: 2em;\n",
       "    font-style: regular;\n",
       "}\n",
       "\n",
       ".text_cell_render h5 {  /*Use this for small titles*/\n",
       "    font-family: 'Alegreya Sans', sans-serif;\n",
       "    font-weight: 300;\n",
       "    font-size: 16pt;\n",
       "    color: #CD2305;\n",
       "    font-style: italic;\n",
       "    margin-bottom: .5em;\n",
       "    margin-top: 0.5em;\n",
       "    display: block;\n",
       "}\n",
       "\n",
       ".text_cell_render h6 { /*use this for copyright note*/\n",
       "    font-family: 'Source Code Pro', sans-serif;\n",
       "    font-weight: 300;\n",
       "    font-size: 9pt;\n",
       "    line-height: 100%;\n",
       "    color: grey;\n",
       "    margin-bottom: 1px;\n",
       "    margin-top: 1px;\n",
       "}\n",
       "\n",
       "    .CodeMirror{\n",
       "            font-family: \"Source Code Pro\";\n",
       "\t\t\tfont-size: 90%;\n",
       "    }\n",
       "/*    .prompt{\n",
       "        display: None;\n",
       "    }*/\n",
       "\t\n",
       "    \n",
       "    .warning{\n",
       "        color: rgb( 240, 20, 20 )\n",
       "        }  \n",
       "</style>\n",
       "<script>\n",
       "    MathJax.Hub.Config({\n",
       "                        TeX: {\n",
       "                           extensions: [\"AMSmath.js\"], \n",
       "                           equationNumbers: { autoNumber: \"AMS\", useLabelIds: true}\n",
       "                           },\n",
       "                tex2jax: {\n",
       "                    inlineMath: [ ['$','$'], [\"\\\\(\",\"\\\\)\"] ],\n",
       "                    displayMath: [ ['$$','$$'], [\"\\\\[\",\"\\\\]\"] ]\n",
       "                },\n",
       "                displayAlign: 'center', // Change this to 'center' to center equations.\n",
       "                \"HTML-CSS\": {\n",
       "                    styles: {'.MathJax_Display': {\"margin\": 4}}\n",
       "                }\n",
       "        });\n",
       "</script>\n"
      ],
      "text/plain": [
       "<IPython.core.display.HTML object>"
      ]
     },
     "execution_count": 12,
     "metadata": {},
     "output_type": "execute_result"
    }
   ],
   "source": [
    "from IPython.core.display import HTML\n",
    "def css_styling():\n",
    "    styles = open('styles/custom.css', 'r').read()\n",
    "    return HTML(styles)\n",
    "css_styling()"
   ]
  }
 ],
 "metadata": {
  "kernelspec": {
   "display_name": "Python 3",
   "language": "python",
   "name": "python3"
  },
  "language_info": {
   "codemirror_mode": {
    "name": "ipython",
    "version": 3
   },
   "file_extension": ".py",
   "mimetype": "text/x-python",
   "name": "python",
   "nbconvert_exporter": "python",
   "pygments_lexer": "ipython3",
   "version": "3.4.4"
  }
 },
 "nbformat": 4,
 "nbformat_minor": 0
}
